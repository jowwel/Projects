{
 "cells": [
  {
   "cell_type": "code",
   "execution_count": 1,
   "metadata": {
    "scrolled": true
   },
   "outputs": [
    {
     "data": {
      "text/html": [
       "<div>\n",
       "<style scoped>\n",
       "    .dataframe tbody tr th:only-of-type {\n",
       "        vertical-align: middle;\n",
       "    }\n",
       "\n",
       "    .dataframe tbody tr th {\n",
       "        vertical-align: top;\n",
       "    }\n",
       "\n",
       "    .dataframe thead th {\n",
       "        text-align: right;\n",
       "    }\n",
       "</style>\n",
       "<table border=\"1\" class=\"dataframe\">\n",
       "  <thead>\n",
       "    <tr style=\"text-align: right;\">\n",
       "      <th></th>\n",
       "      <th>spans</th>\n",
       "      <th>TIMESTAMP</th>\n",
       "    </tr>\n",
       "  </thead>\n",
       "  <tbody>\n",
       "    <tr>\n",
       "      <th>0</th>\n",
       "      <td>[Putting on a little $F short]</td>\n",
       "      <td>NaN</td>\n",
       "    </tr>\n",
       "    <tr>\n",
       "      <th>1</th>\n",
       "      <td>[short some]</td>\n",
       "      <td>NaN</td>\n",
       "    </tr>\n",
       "    <tr>\n",
       "      <th>2</th>\n",
       "      <td>[buying opportunity]</td>\n",
       "      <td>NaN</td>\n",
       "    </tr>\n",
       "    <tr>\n",
       "      <th>3</th>\n",
       "      <td>[Scaling Up on Long Position]</td>\n",
       "      <td>NaN</td>\n",
       "    </tr>\n",
       "    <tr>\n",
       "      <th>4</th>\n",
       "      <td>[its time to sell banks]</td>\n",
       "      <td>NaN</td>\n",
       "    </tr>\n",
       "    <tr>\n",
       "      <th>5</th>\n",
       "      <td>[Entering long]</td>\n",
       "      <td>NaN</td>\n",
       "    </tr>\n",
       "    <tr>\n",
       "      <th>6</th>\n",
       "      <td>[picked some up]</td>\n",
       "      <td>NaN</td>\n",
       "    </tr>\n",
       "    <tr>\n",
       "      <th>7</th>\n",
       "      <td>[time to accumulate for a long position, far m...</td>\n",
       "      <td>NaN</td>\n",
       "    </tr>\n",
       "    <tr>\n",
       "      <th>8</th>\n",
       "      <td>[Looking for a strong bounce, Lunchtime rally ...</td>\n",
       "      <td>NaN</td>\n",
       "    </tr>\n",
       "    <tr>\n",
       "      <th>9</th>\n",
       "      <td>[Very intrigued with the technology and growth...</td>\n",
       "      <td>NaN</td>\n",
       "    </tr>\n",
       "    <tr>\n",
       "      <th>10</th>\n",
       "      <td>[short2 48 + - ***worked, puts up]</td>\n",
       "      <td>NaN</td>\n",
       "    </tr>\n",
       "    <tr>\n",
       "      <th>11</th>\n",
       "      <td>[Biggest Market Losers]</td>\n",
       "      <td>NaN</td>\n",
       "    </tr>\n",
       "    <tr>\n",
       "      <th>12</th>\n",
       "      <td>[$GOOG $GOOGL would suck]</td>\n",
       "      <td>NaN</td>\n",
       "    </tr>\n",
       "    <tr>\n",
       "      <th>13</th>\n",
       "      <td>[Buying $SBUX on dip]</td>\n",
       "      <td>NaN</td>\n",
       "    </tr>\n",
       "    <tr>\n",
       "      <th>14</th>\n",
       "      <td>[is a short below 740, and is overbought]</td>\n",
       "      <td>NaN</td>\n",
       "    </tr>\n",
       "    <tr>\n",
       "      <th>15</th>\n",
       "      <td>[don't Putting on a down little $F short]</td>\n",
       "      <td>NaN</td>\n",
       "    </tr>\n",
       "  </tbody>\n",
       "</table>\n",
       "</div>"
      ],
      "text/plain": [
       "                                                spans  TIMESTAMP\n",
       "0                      [Putting on a little $F short]        NaN\n",
       "1                                        [short some]        NaN\n",
       "2                                [buying opportunity]        NaN\n",
       "3                       [Scaling Up on Long Position]        NaN\n",
       "4                            [its time to sell banks]        NaN\n",
       "5                                     [Entering long]        NaN\n",
       "6                                    [picked some up]        NaN\n",
       "7   [time to accumulate for a long position, far m...        NaN\n",
       "8   [Looking for a strong bounce, Lunchtime rally ...        NaN\n",
       "9   [Very intrigued with the technology and growth...        NaN\n",
       "10                 [short2 48 + - ***worked, puts up]        NaN\n",
       "11                            [Biggest Market Losers]        NaN\n",
       "12                          [$GOOG $GOOGL would suck]        NaN\n",
       "13                              [Buying $SBUX on dip]        NaN\n",
       "14          [is a short below 740, and is overbought]        NaN\n",
       "15          [don't Putting on a down little $F short]        NaN"
      ]
     },
     "execution_count": 1,
     "metadata": {},
     "output_type": "execute_result"
    }
   ],
   "source": [
    "import json \n",
    "import pandas as pd \n",
    "with open('Microblog_Trialdata.json') as json_data:\n",
    "    obj = json.load(json_data) \n",
    "    frame = pd.DataFrame(obj[0:], columns=['spans', 'TIMESTAMP'])\n",
    "frame\n",
    "#SparkSession.stop()¶"
   ]
  },
  {
   "cell_type": "code",
   "execution_count": 4,
   "metadata": {},
   "outputs": [],
   "source": [
    "import findspark\n",
    "findspark.init('C:\\opt\\spark\\spark-2.3.0-bin-hadoop2.7')\n",
    "import pyspark \n",
    "spark = pyspark.sql.SparkSession.builder \\\n",
    "        .master(\"local\") \\\n",
    "        .appName(\"Word Count\") \\\n",
    "        .config(\"spark.some.config.option\", \"some-value\") \\\n",
    "        .getOrCreate()\n",
    "from pyspark.mllib.regression import LabeledPoint\n",
    "from pyspark.mllib.tree import GradientBoostedTrees\n",
    "data =[\n",
    "    LabeledPoint(0.0, [0.0]),\n",
    "    LabeledPoint(0.0, [1.0]),\n",
    "    LabeledPoint(1.0, [2.0]),\n",
    "    LabeledPoint(1.0, [3.0])\n",
    "]\n",
    "sc = spark.sparkContext\n",
    "model = GradientBoostedTrees.trainClassifier(sc.parallelize(data), {}, numIterations=10)\n"
   ]
  },
  {
   "cell_type": "code",
   "execution_count": 5,
   "metadata": {},
   "outputs": [
    {
     "data": {
      "text/plain": [
       "30"
      ]
     },
     "execution_count": 5,
     "metadata": {},
     "output_type": "execute_result"
    }
   ],
   "source": [
    "model.numTrees()\n",
    "model.totalNumNodes()"
   ]
  },
  {
   "cell_type": "code",
   "execution_count": 6,
   "metadata": {},
   "outputs": [
    {
     "name": "stdout",
     "output_type": "stream",
     "text": [
      "TreeEnsembleModel classifier with 10 trees\n",
      "\n"
     ]
    }
   ],
   "source": [
    "print(model)  # it already has newline"
   ]
  },
  {
   "cell_type": "code",
   "execution_count": 7,
   "metadata": {},
   "outputs": [
    {
     "data": {
      "text/plain": [
       "1.0"
      ]
     },
     "execution_count": 7,
     "metadata": {},
     "output_type": "execute_result"
    }
   ],
   "source": [
    "model.predict([2.0])"
   ]
  },
  {
   "cell_type": "code",
   "execution_count": 8,
   "metadata": {},
   "outputs": [],
   "source": [
    "import pandas as pd "
   ]
  },
  {
   "cell_type": "code",
   "execution_count": 9,
   "metadata": {},
   "outputs": [],
   "source": [
    "data = pd.read_json(\"Microblog_Trialdata.json\")"
   ]
  },
  {
   "cell_type": "code",
   "execution_count": 10,
   "metadata": {},
   "outputs": [
    {
     "data": {
      "text/html": [
       "<div>\n",
       "<style scoped>\n",
       "    .dataframe tbody tr th:only-of-type {\n",
       "        vertical-align: middle;\n",
       "    }\n",
       "\n",
       "    .dataframe tbody tr th {\n",
       "        vertical-align: top;\n",
       "    }\n",
       "\n",
       "    .dataframe thead th {\n",
       "        text-align: right;\n",
       "    }\n",
       "</style>\n",
       "<table border=\"1\" class=\"dataframe\">\n",
       "  <thead>\n",
       "    <tr style=\"text-align: right;\">\n",
       "      <th></th>\n",
       "      <th>cashtag</th>\n",
       "      <th>id</th>\n",
       "      <th>sentiment score</th>\n",
       "      <th>source</th>\n",
       "      <th>spans</th>\n",
       "    </tr>\n",
       "  </thead>\n",
       "  <tbody>\n",
       "    <tr>\n",
       "      <th>0</th>\n",
       "      <td>$F</td>\n",
       "      <td>5540055</td>\n",
       "      <td>-0.454</td>\n",
       "      <td>stocktwits</td>\n",
       "      <td>[Putting on a little $F short]</td>\n",
       "    </tr>\n",
       "    <tr>\n",
       "      <th>1</th>\n",
       "      <td>$AAPL</td>\n",
       "      <td>10752226</td>\n",
       "      <td>-0.464</td>\n",
       "      <td>stocktwits</td>\n",
       "      <td>[short some]</td>\n",
       "    </tr>\n",
       "    <tr>\n",
       "      <th>2</th>\n",
       "      <td>$BAC</td>\n",
       "      <td>10920221</td>\n",
       "      <td>0.445</td>\n",
       "      <td>stocktwits</td>\n",
       "      <td>[buying opportunity]</td>\n",
       "    </tr>\n",
       "    <tr>\n",
       "      <th>3</th>\n",
       "      <td>$SHOR</td>\n",
       "      <td>12971398</td>\n",
       "      <td>0.661</td>\n",
       "      <td>stocktwits</td>\n",
       "      <td>[Scaling Up on Long Position]</td>\n",
       "    </tr>\n",
       "    <tr>\n",
       "      <th>4</th>\n",
       "      <td>$JPM</td>\n",
       "      <td>16142438</td>\n",
       "      <td>-0.763</td>\n",
       "      <td>stocktwits</td>\n",
       "      <td>[its time to sell banks]</td>\n",
       "    </tr>\n",
       "  </tbody>\n",
       "</table>\n",
       "</div>"
      ],
      "text/plain": [
       "  cashtag        id  sentiment score      source  \\\n",
       "0      $F   5540055           -0.454  stocktwits   \n",
       "1   $AAPL  10752226           -0.464  stocktwits   \n",
       "2    $BAC  10920221            0.445  stocktwits   \n",
       "3   $SHOR  12971398            0.661  stocktwits   \n",
       "4    $JPM  16142438           -0.763  stocktwits   \n",
       "\n",
       "                            spans  \n",
       "0  [Putting on a little $F short]  \n",
       "1                    [short some]  \n",
       "2            [buying opportunity]  \n",
       "3   [Scaling Up on Long Position]  \n",
       "4        [its time to sell banks]  "
      ]
     },
     "execution_count": 10,
     "metadata": {},
     "output_type": "execute_result"
    }
   ],
   "source": [
    "data.head()"
   ]
  },
  {
   "cell_type": "code",
   "execution_count": 12,
   "metadata": {},
   "outputs": [],
   "source": [
    "df_data=spark.createDataFrame(data)"
   ]
  },
  {
   "cell_type": "code",
   "execution_count": 13,
   "metadata": {},
   "outputs": [
    {
     "name": "stdout",
     "output_type": "stream",
     "text": [
      "+-------+------------------+---------------+----------+--------------------+\n",
      "|cashtag|                id|sentiment score|    source|               spans|\n",
      "+-------+------------------+---------------+----------+--------------------+\n",
      "|     $F|           5540055|         -0.454|stocktwits|[Putting on a lit...|\n",
      "|  $AAPL|          10752226|         -0.464|stocktwits|        [short some]|\n",
      "|   $BAC|          10920221|          0.445|stocktwits|[buying opportunity]|\n",
      "|  $SHOR|          12971398|          0.661|stocktwits|[Scaling Up on Lo...|\n",
      "|   $JPM|          16142438|         -0.763|stocktwits|[its time to sell...|\n",
      "|   $LMT|          14073133|          0.627|stocktwits|     [Entering long]|\n",
      "|   $DNN|          18479024|          0.653|stocktwits|    [picked some up]|\n",
      "|   $CRK|          34147106|          0.668|stocktwits|[time to accumula...|\n",
      "|   $CRK|          34147107|           0.46|stocktwits|[Looking for a st...|\n",
      "|   $CRK|          34147108|          0.403|stocktwits|[Very intrigued w...|\n",
      "|   $CRK|          34147109|            0.0|stocktwits|[short2 48 + - **...|\n",
      "|   $CRK|          34147110|         -0.438|stocktwits|[Biggest Market L...|\n",
      "|   $CRK|          34147111|         -0.398|stocktwits|[$GOOG $GOOGL wou...|\n",
      "|  $SBUX|719890387314335744|          0.483|   twitter|[Buying $SBUX on ...|\n",
      "| $GOOGL|708668814427348992|          -0.48|   twitter|[is a short below...|\n",
      "|     $F|           5540056|         -0.454|stocktwits|[don't Putting on...|\n",
      "+-------+------------------+---------------+----------+--------------------+\n",
      "\n"
     ]
    }
   ],
   "source": [
    "df_data.show()"
   ]
  },
  {
   "cell_type": "code",
   "execution_count": null,
   "metadata": {},
   "outputs": [],
   "source": []
  }
 ],
 "metadata": {
  "kernelspec": {
   "display_name": "Python 3",
   "language": "python",
   "name": "python3"
  },
  "language_info": {
   "codemirror_mode": {
    "name": "ipython",
    "version": 3
   },
   "file_extension": ".py",
   "mimetype": "text/x-python",
   "name": "python",
   "nbconvert_exporter": "python",
   "pygments_lexer": "ipython3",
   "version": "3.6.4"
  }
 },
 "nbformat": 4,
 "nbformat_minor": 2
}
